{
 "cells": [
  {
   "cell_type": "code",
   "execution_count": null,
   "metadata": {},
   "outputs": [],
   "source": [
    "import Levenshtein\n",
    "\n",
    "string1 = \"apple\"\n",
    "string2 = \"apples\"\n",
    "distance = Levenshtein.distance(string1, string2) # This would output a value of 1, indicating that one single-character edit is required to transform string1 into string2.\n",
    "print(distance)"
   ]
  }
 ],
 "metadata": {
  "language_info": {
   "name": "python"
  },
  "orig_nbformat": 4
 },
 "nbformat": 4,
 "nbformat_minor": 2
}
