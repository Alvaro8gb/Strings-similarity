{
 "cells": [
  {
   "cell_type": "code",
   "execution_count": 1,
   "metadata": {},
   "outputs": [
    {
     "name": "stdout",
     "output_type": "stream",
     "text": [
      "1\n"
     ]
    }
   ],
   "source": [
    "import Levenshtein\n",
    "\n",
    "string1 = \"apple\"\n",
    "string2 = \"apples\"\n",
    "distance = Levenshtein.distance(string1, string2) # This would output a value of 1, indicating that one single-character edit is required to transform string1 into string2.\n",
    "print(distance)"
   ]
  }
 ],
 "metadata": {
  "kernelspec": {
   "display_name": "venv",
   "language": "python",
   "name": "python3"
  },
  "language_info": {
   "codemirror_mode": {
    "name": "ipython",
    "version": 3
   },
   "file_extension": ".py",
   "mimetype": "text/x-python",
   "name": "python",
   "nbconvert_exporter": "python",
   "pygments_lexer": "ipython3",
   "version": "3.8.10"
  },
  "orig_nbformat": 4,
  "vscode": {
   "interpreter": {
    "hash": "4481417bba163a8e29b1300bc79b8736cfba7fff7dcadf3dc0cb26a87045fae5"
   }
  }
 },
 "nbformat": 4,
 "nbformat_minor": 2
}
