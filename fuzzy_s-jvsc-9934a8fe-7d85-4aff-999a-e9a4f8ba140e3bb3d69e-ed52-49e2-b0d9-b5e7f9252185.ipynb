{
 "cells": [
  {
   "cell_type": "code",
   "execution_count": null,
   "metadata": {},
   "outputs": [],
   "source": []
  }
 ],
 "metadata": {
  "kernelspec": {
   "display_name": "venv",
   "language": "python",
   "name": "python3"
  },
  "language_info": {
   "name": "python",
   "version": "3.8.10 (default, Nov 14 2022, 12:59:47) \n[GCC 9.4.0]"
  },
  "vscode": {
   "interpreter": {
    "hash": "4481417bba163a8e29b1300bc79b8736cfba7fff7dcadf3dc0cb26a87045fae5"
   }
  }
 },
 "nbformat": 4,
 "nbformat_minor": 5
}
