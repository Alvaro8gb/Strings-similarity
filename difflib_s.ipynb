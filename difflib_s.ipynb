{
 "cells": [
  {
   "cell_type": "code",
   "execution_count": null,
   "metadata": {},
   "outputs": [],
   "source": [
    "import difflib\n",
    "\n",
    "string1 = \"orange\"\n",
    "string2 = \"oranges\"\n",
    "similarity = difflib.SequenceMatcher(None, string1, string2).ratio() # return a value between 0 and 1 indicating their similarity.\n",
    "\n",
    "print(similarity)\n"
   ]
  }
 ],
 "metadata": {
  "language_info": {
   "name": "python"
  },
  "orig_nbformat": 4
 },
 "nbformat": 4,
 "nbformat_minor": 2
}
